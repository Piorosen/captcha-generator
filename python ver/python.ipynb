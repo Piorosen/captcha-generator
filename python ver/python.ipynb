{
 "cells": [
  {
   "cell_type": "code",
   "execution_count": 1,
   "metadata": {},
   "outputs": [],
   "source": [
    "from captcha.image import ImageCaptcha\n",
    "import os\n",
    "import random as rn"
   ]
  },
  {
   "cell_type": "code",
   "execution_count": 2,
   "metadata": {},
   "outputs": [],
   "source": [
    "path = './Font'\n",
    "fileList = os.listdir(path)\n",
    "\n",
    "trainEpoch = 6\n",
    "testEpoch = 1\n",
    "savePath = './Save/'\n",
    "trainPath = savePath + 'train/'\n",
    "testPath = savePath + 'test/'\n"
   ]
  },
  {
   "cell_type": "code",
   "execution_count": 3,
   "metadata": {},
   "outputs": [],
   "source": [
    "for i in range(0, len(fileList)):\n",
    "    fileList[i] = './Font/' +  fileList[i]\n",
    "    \n",
    "if not os.path.isdir(savePath):\n",
    "    os.mkdir(savePath)\n",
    "if not os.path.isdir(trainPath):\n",
    "    os.mkdir(trainPath)\n",
    "if not os.path.isdir(testPath):\n",
    "    os.mkdir(testPath)\n",
    "    \n"
   ]
  },
  {
   "cell_type": "code",
   "execution_count": 4,
   "metadata": {},
   "outputs": [],
   "source": [
    "image = ImageCaptcha(fonts=fileList)"
   ]
  },
  {
   "cell_type": "code",
   "execution_count": 5,
   "metadata": {},
   "outputs": [],
   "source": [
    "def RandomName(length):\n",
    "    name = \"\"\n",
    "    \n",
    "    for i in range(0, length):\n",
    "        n = rn.randint(0, 16)\n",
    "        \n",
    "        if (n > 9):\n",
    "            name += chr(n + ord('a') - 10)\n",
    "        else:\n",
    "            name += chr(n + ord('0'))\n",
    "            \n",
    "    return name\n",
    "    "
   ]
  },
  {
   "cell_type": "code",
   "execution_count": 6,
   "metadata": {},
   "outputs": [],
   "source": [
    "def HashName():\n",
    "    name = \"\"\n",
    "    name = RandomName(8) + '-' + RandomName(4) + '-' + RandomName(4) + '-' + RandomName(4) + '-' + RandomName(12)\n",
    "    return name"
   ]
  },
  {
   "cell_type": "code",
   "execution_count": 12,
   "metadata": {},
   "outputs": [],
   "source": [
    "def Pick(origin, size, value = None):\n",
    "    if value is None:\n",
    "        value = []\n",
    "    \n",
    "    length = len(origin);\n",
    "    \n",
    "    if size == 0:\n",
    "        Draw(value)\n",
    "\n",
    "    for i in range(0, length):\n",
    "        tmp = origin[i]\n",
    "        \n",
    "        value.append(tmp)\n",
    "        del origin[i]\n",
    "        Pick(origin, size - 1, value)\n",
    "        origin.insert(i, tmp)\n",
    "        value.pop()"
   ]
  },
  {
   "cell_type": "code",
   "execution_count": 13,
   "metadata": {},
   "outputs": [],
   "source": [
    "def ConvertNumToChar(num):\n",
    "    charList = ['영', '일', '이', '삼', '사', '오', '육', '칠', '팔', '구']\n",
    "    result = \"\"\n",
    "    value = num\n",
    "    for i in value:\n",
    "        rand = rn.randint(0,1)\n",
    "        if rand % 2 == 1:\n",
    "            result += charList[int(i)]\n",
    "        else:\n",
    "            result += i\n",
    "    \n",
    "    return result\n",
    "    "
   ]
  },
  {
   "cell_type": "code",
   "execution_count": 14,
   "metadata": {},
   "outputs": [],
   "source": [
    "def ListToString(item):\n",
    "    result = \"\"\n",
    "    \n",
    "    for i in item:\n",
    "        result += chr(i + ord('0'))\n",
    "        \n",
    "    return result"
   ]
  },
  {
   "cell_type": "code",
   "execution_count": 15,
   "metadata": {},
   "outputs": [],
   "source": [
    "def Draw(item):\n",
    "    num = ListToString(item)\n",
    "    \n",
    "    for i in range(0, trainEpoch):\n",
    "        image.write(ConvertNumToChar(num), trainPath + num + '_' + HashName() + '.png')\n",
    "    for i in range(0, testEpoch):\n",
    "        image.write(ConvertNumToChar(num), testPath + num + '_'+ HashName() + '.png')\n",
    "    "
   ]
  },
  {
   "cell_type": "code",
   "execution_count": 16,
   "metadata": {},
   "outputs": [
    {
     "name": "stdout",
     "output_type": "stream",
     "text": [
      "complete\n"
     ]
    }
   ],
   "source": [
    "Pick([0,1,2,3,4,5,6,7,8,9], 4)\n",
    "print('complete')"
   ]
  },
  {
   "cell_type": "code",
   "execution_count": null,
   "metadata": {},
   "outputs": [],
   "source": []
  },
  {
   "cell_type": "code",
   "execution_count": null,
   "metadata": {},
   "outputs": [],
   "source": []
  },
  {
   "cell_type": "code",
   "execution_count": null,
   "metadata": {},
   "outputs": [],
   "source": []
  },
  {
   "cell_type": "code",
   "execution_count": null,
   "metadata": {},
   "outputs": [],
   "source": []
  },
  {
   "cell_type": "code",
   "execution_count": null,
   "metadata": {},
   "outputs": [],
   "source": []
  }
 ],
 "metadata": {
  "kernelspec": {
   "display_name": "Python 3",
   "language": "python",
   "name": "python3"
  },
  "language_info": {
   "codemirror_mode": {
    "name": "ipython",
    "version": 3
   },
   "file_extension": ".py",
   "mimetype": "text/x-python",
   "name": "python",
   "nbconvert_exporter": "python",
   "pygments_lexer": "ipython3",
   "version": "3.7.3"
  }
 },
 "nbformat": 4,
 "nbformat_minor": 2
}
